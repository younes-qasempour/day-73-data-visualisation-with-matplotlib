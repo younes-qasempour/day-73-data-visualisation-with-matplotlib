{
 "nbformat": 4,
 "nbformat_minor": 0,
 "metadata": {
  "kernelspec": {
   "display_name": "Python 3",
   "language": "python",
   "name": "python3"
  },
  "language_info": {
   "codemirror_mode": {
    "name": "ipython",
    "version": 3
   },
   "file_extension": ".py",
   "mimetype": "text/x-python",
   "name": "python",
   "nbconvert_exporter": "python",
   "pygments_lexer": "ipython3",
   "version": "3.7.3"
  },
  "colab": {
   "name": "Programming Languages (start).ipynb",
   "provenance": []
  }
 },
 "cells": [
  {
   "cell_type": "markdown",
   "metadata": {
    "id": "MAAKxOwsGxuj",
    "colab_type": "text"
   },
   "source": [
    "## Get the Data\n",
    "\n",
    "Either use the provided .csv file or (optionally) get fresh (the freshest?) data from running an SQL query on StackExchange: \n",
    "\n",
    "Follow this link to run the query from [StackExchange](https://data.stackexchange.com/stackoverflow/query/675441/popular-programming-languages-per-over-time-eversql-com) to get your own .csv file\n",
    "\n",
    "<code>\n",
    "select dateadd(month, datediff(month, 0, q.CreationDate), 0) m, TagName, count(*)\n",
    "from PostTags pt\n",
    "join Posts q on q.Id=pt.PostId\n",
    "join Tags t on t.Id=pt.TagId\n",
    "where TagName in ('java','c','c++','python','c#','javascript','assembly','php','perl','ruby','visual basic','swift','r','object-c','scratch','go','swift','delphi')\n",
    "and q.CreationDate < dateadd(month, datediff(month, 0, getdate()), 0)\n",
    "group by dateadd(month, datediff(month, 0, q.CreationDate), 0), TagName\n",
    "order by dateadd(month, datediff(month, 0, q.CreationDate), 0)\n",
    "</code>"
   ]
  },
  {
   "cell_type": "markdown",
   "metadata": {
    "id": "u5KcSXt1Gxuk",
    "colab_type": "text"
   },
   "source": [
    "## Import Statements"
   ]
  },
  {
   "cell_type": "code",
   "metadata": {
    "id": "Ru4Wq-pXGxuk",
    "colab_type": "code",
    "colab": {},
    "ExecuteTime": {
     "end_time": "2025-03-26T15:22:30.867546Z",
     "start_time": "2025-03-26T15:22:28.748471Z"
    }
   },
   "source": [
    "import pandas as pd\n",
    "import matplotlib.pyplot as plt"
   ],
   "outputs": [],
   "execution_count": 32
  },
  {
   "cell_type": "markdown",
   "metadata": {
    "id": "xEP6beuEGxun",
    "colab_type": "text"
   },
   "source": "## Data Exploration"
  },
  {
   "cell_type": "markdown",
   "metadata": {
    "id": "w3Q75B4CGxun",
    "colab_type": "text"
   },
   "source": [
    "**Challenge**: Read the .csv file and store it in a Pandas dataframe"
   ]
  },
  {
   "cell_type": "code",
   "metadata": {
    "id": "Bm7hQtEGIiri",
    "colab_type": "code",
    "colab": {},
    "ExecuteTime": {
     "end_time": "2025-03-26T13:44:58.104330Z",
     "start_time": "2025-03-26T13:44:58.085295Z"
    }
   },
   "source": "df = pd.read_csv(\"data/002 QueryResults.csv\", names=['DATE', 'TAG', 'POSTS'], header=0)",
   "outputs": [],
   "execution_count": 8
  },
  {
   "cell_type": "markdown",
   "metadata": {
    "id": "x2WnDM75Gxup",
    "colab_type": "text"
   },
   "source": [
    "**Challenge**: Examine the first 5 rows and the last 5 rows of the of the dataframe"
   ]
  },
  {
   "cell_type": "code",
   "metadata": {
    "id": "50oqpUxVIiJf",
    "colab_type": "code",
    "colab": {},
    "ExecuteTime": {
     "end_time": "2025-03-26T13:44:59.144555Z",
     "start_time": "2025-03-26T13:44:59.120487Z"
    }
   },
   "source": "df.tail()",
   "outputs": [
    {
     "data": {
      "text/plain": [
       "                     DATE    TAG  POSTS\n",
       "1986  2020-07-01 00:00:00      r   5694\n",
       "1987  2020-07-01 00:00:00     go    743\n",
       "1988  2020-07-01 00:00:00   ruby    775\n",
       "1989  2020-07-01 00:00:00   perl    182\n",
       "1990  2020-07-01 00:00:00  swift   3607"
      ],
      "text/html": [
       "<div>\n",
       "<style scoped>\n",
       "    .dataframe tbody tr th:only-of-type {\n",
       "        vertical-align: middle;\n",
       "    }\n",
       "\n",
       "    .dataframe tbody tr th {\n",
       "        vertical-align: top;\n",
       "    }\n",
       "\n",
       "    .dataframe thead th {\n",
       "        text-align: right;\n",
       "    }\n",
       "</style>\n",
       "<table border=\"1\" class=\"dataframe\">\n",
       "  <thead>\n",
       "    <tr style=\"text-align: right;\">\n",
       "      <th></th>\n",
       "      <th>DATE</th>\n",
       "      <th>TAG</th>\n",
       "      <th>POSTS</th>\n",
       "    </tr>\n",
       "  </thead>\n",
       "  <tbody>\n",
       "    <tr>\n",
       "      <th>1986</th>\n",
       "      <td>2020-07-01 00:00:00</td>\n",
       "      <td>r</td>\n",
       "      <td>5694</td>\n",
       "    </tr>\n",
       "    <tr>\n",
       "      <th>1987</th>\n",
       "      <td>2020-07-01 00:00:00</td>\n",
       "      <td>go</td>\n",
       "      <td>743</td>\n",
       "    </tr>\n",
       "    <tr>\n",
       "      <th>1988</th>\n",
       "      <td>2020-07-01 00:00:00</td>\n",
       "      <td>ruby</td>\n",
       "      <td>775</td>\n",
       "    </tr>\n",
       "    <tr>\n",
       "      <th>1989</th>\n",
       "      <td>2020-07-01 00:00:00</td>\n",
       "      <td>perl</td>\n",
       "      <td>182</td>\n",
       "    </tr>\n",
       "    <tr>\n",
       "      <th>1990</th>\n",
       "      <td>2020-07-01 00:00:00</td>\n",
       "      <td>swift</td>\n",
       "      <td>3607</td>\n",
       "    </tr>\n",
       "  </tbody>\n",
       "</table>\n",
       "</div>"
      ]
     },
     "execution_count": 9,
     "metadata": {},
     "output_type": "execute_result"
    }
   ],
   "execution_count": 9
  },
  {
   "cell_type": "markdown",
   "metadata": {
    "id": "0o9hvVgyGxus",
    "colab_type": "text"
   },
   "source": [
    "**Challenge:** Check how many rows and how many columns there are. \n",
    "What are the dimensions of the dataframe?"
   ]
  },
  {
   "cell_type": "code",
   "metadata": {
    "id": "ZUidjCPFIho8",
    "colab_type": "code",
    "colab": {},
    "ExecuteTime": {
     "end_time": "2025-03-26T13:45:03.846153Z",
     "start_time": "2025-03-26T13:45:03.836147Z"
    }
   },
   "source": "df.shape",
   "outputs": [
    {
     "data": {
      "text/plain": [
       "(1991, 3)"
      ]
     },
     "execution_count": 10,
     "metadata": {},
     "output_type": "execute_result"
    }
   ],
   "execution_count": 10
  },
  {
   "cell_type": "markdown",
   "metadata": {
    "id": "ybZkNLmxGxuu",
    "colab_type": "text"
   },
   "source": [
    "**Challenge**: Count the number of entries in each column of the dataframe"
   ]
  },
  {
   "cell_type": "code",
   "metadata": {
    "id": "Sc1dmmOoIg2g",
    "colab_type": "code",
    "colab": {},
    "ExecuteTime": {
     "end_time": "2025-03-26T13:45:05.779800Z",
     "start_time": "2025-03-26T13:45:05.766977Z"
    }
   },
   "source": "df.count()",
   "outputs": [
    {
     "data": {
      "text/plain": [
       "DATE     1991\n",
       "TAG      1991\n",
       "POSTS    1991\n",
       "dtype: int64"
      ]
     },
     "execution_count": 11,
     "metadata": {},
     "output_type": "execute_result"
    }
   ],
   "execution_count": 11
  },
  {
   "cell_type": "markdown",
   "metadata": {
    "id": "hlnfFsscGxuw",
    "colab_type": "text"
   },
   "source": [
    "**Challenge**: Calculate the total number of post per language.\n",
    "Which Programming language has had the highest total number of posts of all time?"
   ]
  },
  {
   "cell_type": "code",
   "metadata": {
    "id": "9-NYFONcIc1X",
    "colab_type": "code",
    "colab": {},
    "ExecuteTime": {
     "end_time": "2025-03-26T15:01:42.202091Z",
     "start_time": "2025-03-26T15:01:42.120637Z"
    }
   },
   "source": "df.groupby('TAG').sum()",
   "outputs": [
    {
     "data": {
      "text/plain": [
       "                                                         DATE    POSTS\n",
       "TAG                                                                   \n",
       "assembly    2008-08-01 00:00:002008-09-01 00:00:002008-10-...    34852\n",
       "c           2008-08-01 00:00:002008-09-01 00:00:002008-10-...   336042\n",
       "c#          2008-07-01 00:00:002008-08-01 00:00:002008-09-...  1423530\n",
       "c++         2008-08-01 00:00:002008-09-01 00:00:002008-10-...   684210\n",
       "delphi      2008-08-01 00:00:002008-09-01 00:00:002008-10-...    46212\n",
       "go          2009-11-01 00:00:002009-12-01 00:00:002010-01-...    47499\n",
       "java        2008-08-01 00:00:002008-09-01 00:00:002008-10-...  1696403\n",
       "javascript  2008-08-01 00:00:002008-09-01 00:00:002008-10-...  2056510\n",
       "perl        2008-08-01 00:00:002008-09-01 00:00:002008-10-...    65286\n",
       "php         2008-08-01 00:00:002008-09-01 00:00:002008-10-...  1361988\n",
       "python      2008-08-01 00:00:002008-09-01 00:00:002008-10-...  1496210\n",
       "r           2008-09-01 00:00:002008-11-01 00:00:002008-12-...   356799\n",
       "ruby        2008-08-01 00:00:002008-09-01 00:00:002008-10-...   214582\n",
       "swift       2009-01-01 00:00:002009-02-01 00:00:002009-03-...   273055"
      ],
      "text/html": [
       "<div>\n",
       "<style scoped>\n",
       "    .dataframe tbody tr th:only-of-type {\n",
       "        vertical-align: middle;\n",
       "    }\n",
       "\n",
       "    .dataframe tbody tr th {\n",
       "        vertical-align: top;\n",
       "    }\n",
       "\n",
       "    .dataframe thead th {\n",
       "        text-align: right;\n",
       "    }\n",
       "</style>\n",
       "<table border=\"1\" class=\"dataframe\">\n",
       "  <thead>\n",
       "    <tr style=\"text-align: right;\">\n",
       "      <th></th>\n",
       "      <th>DATE</th>\n",
       "      <th>POSTS</th>\n",
       "    </tr>\n",
       "    <tr>\n",
       "      <th>TAG</th>\n",
       "      <th></th>\n",
       "      <th></th>\n",
       "    </tr>\n",
       "  </thead>\n",
       "  <tbody>\n",
       "    <tr>\n",
       "      <th>assembly</th>\n",
       "      <td>2008-08-01 00:00:002008-09-01 00:00:002008-10-...</td>\n",
       "      <td>34852</td>\n",
       "    </tr>\n",
       "    <tr>\n",
       "      <th>c</th>\n",
       "      <td>2008-08-01 00:00:002008-09-01 00:00:002008-10-...</td>\n",
       "      <td>336042</td>\n",
       "    </tr>\n",
       "    <tr>\n",
       "      <th>c#</th>\n",
       "      <td>2008-07-01 00:00:002008-08-01 00:00:002008-09-...</td>\n",
       "      <td>1423530</td>\n",
       "    </tr>\n",
       "    <tr>\n",
       "      <th>c++</th>\n",
       "      <td>2008-08-01 00:00:002008-09-01 00:00:002008-10-...</td>\n",
       "      <td>684210</td>\n",
       "    </tr>\n",
       "    <tr>\n",
       "      <th>delphi</th>\n",
       "      <td>2008-08-01 00:00:002008-09-01 00:00:002008-10-...</td>\n",
       "      <td>46212</td>\n",
       "    </tr>\n",
       "    <tr>\n",
       "      <th>go</th>\n",
       "      <td>2009-11-01 00:00:002009-12-01 00:00:002010-01-...</td>\n",
       "      <td>47499</td>\n",
       "    </tr>\n",
       "    <tr>\n",
       "      <th>java</th>\n",
       "      <td>2008-08-01 00:00:002008-09-01 00:00:002008-10-...</td>\n",
       "      <td>1696403</td>\n",
       "    </tr>\n",
       "    <tr>\n",
       "      <th>javascript</th>\n",
       "      <td>2008-08-01 00:00:002008-09-01 00:00:002008-10-...</td>\n",
       "      <td>2056510</td>\n",
       "    </tr>\n",
       "    <tr>\n",
       "      <th>perl</th>\n",
       "      <td>2008-08-01 00:00:002008-09-01 00:00:002008-10-...</td>\n",
       "      <td>65286</td>\n",
       "    </tr>\n",
       "    <tr>\n",
       "      <th>php</th>\n",
       "      <td>2008-08-01 00:00:002008-09-01 00:00:002008-10-...</td>\n",
       "      <td>1361988</td>\n",
       "    </tr>\n",
       "    <tr>\n",
       "      <th>python</th>\n",
       "      <td>2008-08-01 00:00:002008-09-01 00:00:002008-10-...</td>\n",
       "      <td>1496210</td>\n",
       "    </tr>\n",
       "    <tr>\n",
       "      <th>r</th>\n",
       "      <td>2008-09-01 00:00:002008-11-01 00:00:002008-12-...</td>\n",
       "      <td>356799</td>\n",
       "    </tr>\n",
       "    <tr>\n",
       "      <th>ruby</th>\n",
       "      <td>2008-08-01 00:00:002008-09-01 00:00:002008-10-...</td>\n",
       "      <td>214582</td>\n",
       "    </tr>\n",
       "    <tr>\n",
       "      <th>swift</th>\n",
       "      <td>2009-01-01 00:00:002009-02-01 00:00:002009-03-...</td>\n",
       "      <td>273055</td>\n",
       "    </tr>\n",
       "  </tbody>\n",
       "</table>\n",
       "</div>"
      ]
     },
     "execution_count": 15,
     "metadata": {},
     "output_type": "execute_result"
    }
   ],
   "execution_count": 15
  },
  {
   "cell_type": "markdown",
   "metadata": {
    "id": "iVCesB49Gxuz",
    "colab_type": "text"
   },
   "source": [
    "Some languages are older (e.g., C) and other languages are newer (e.g., Swift). The dataset starts in September 2008.\n",
    "\n",
    "**Challenge**: How many months of data exist per language? Which language had the fewest months with an entry? \n"
   ]
  },
  {
   "cell_type": "code",
   "metadata": {
    "id": "hDT4JlJNJfgQ",
    "colab_type": "code",
    "colab": {},
    "ExecuteTime": {
     "end_time": "2025-03-26T15:02:46.078513Z",
     "start_time": "2025-03-26T15:02:46.055085Z"
    }
   },
   "source": "df.groupby('TAG').count()",
   "outputs": [
    {
     "data": {
      "text/plain": [
       "            DATE  POSTS\n",
       "TAG                    \n",
       "assembly     144    144\n",
       "c            144    144\n",
       "c#           145    145\n",
       "c++          144    144\n",
       "delphi       144    144\n",
       "go           129    129\n",
       "java         144    144\n",
       "javascript   144    144\n",
       "perl         144    144\n",
       "php          144    144\n",
       "python       144    144\n",
       "r            142    142\n",
       "ruby         144    144\n",
       "swift        135    135"
      ],
      "text/html": [
       "<div>\n",
       "<style scoped>\n",
       "    .dataframe tbody tr th:only-of-type {\n",
       "        vertical-align: middle;\n",
       "    }\n",
       "\n",
       "    .dataframe tbody tr th {\n",
       "        vertical-align: top;\n",
       "    }\n",
       "\n",
       "    .dataframe thead th {\n",
       "        text-align: right;\n",
       "    }\n",
       "</style>\n",
       "<table border=\"1\" class=\"dataframe\">\n",
       "  <thead>\n",
       "    <tr style=\"text-align: right;\">\n",
       "      <th></th>\n",
       "      <th>DATE</th>\n",
       "      <th>POSTS</th>\n",
       "    </tr>\n",
       "    <tr>\n",
       "      <th>TAG</th>\n",
       "      <th></th>\n",
       "      <th></th>\n",
       "    </tr>\n",
       "  </thead>\n",
       "  <tbody>\n",
       "    <tr>\n",
       "      <th>assembly</th>\n",
       "      <td>144</td>\n",
       "      <td>144</td>\n",
       "    </tr>\n",
       "    <tr>\n",
       "      <th>c</th>\n",
       "      <td>144</td>\n",
       "      <td>144</td>\n",
       "    </tr>\n",
       "    <tr>\n",
       "      <th>c#</th>\n",
       "      <td>145</td>\n",
       "      <td>145</td>\n",
       "    </tr>\n",
       "    <tr>\n",
       "      <th>c++</th>\n",
       "      <td>144</td>\n",
       "      <td>144</td>\n",
       "    </tr>\n",
       "    <tr>\n",
       "      <th>delphi</th>\n",
       "      <td>144</td>\n",
       "      <td>144</td>\n",
       "    </tr>\n",
       "    <tr>\n",
       "      <th>go</th>\n",
       "      <td>129</td>\n",
       "      <td>129</td>\n",
       "    </tr>\n",
       "    <tr>\n",
       "      <th>java</th>\n",
       "      <td>144</td>\n",
       "      <td>144</td>\n",
       "    </tr>\n",
       "    <tr>\n",
       "      <th>javascript</th>\n",
       "      <td>144</td>\n",
       "      <td>144</td>\n",
       "    </tr>\n",
       "    <tr>\n",
       "      <th>perl</th>\n",
       "      <td>144</td>\n",
       "      <td>144</td>\n",
       "    </tr>\n",
       "    <tr>\n",
       "      <th>php</th>\n",
       "      <td>144</td>\n",
       "      <td>144</td>\n",
       "    </tr>\n",
       "    <tr>\n",
       "      <th>python</th>\n",
       "      <td>144</td>\n",
       "      <td>144</td>\n",
       "    </tr>\n",
       "    <tr>\n",
       "      <th>r</th>\n",
       "      <td>142</td>\n",
       "      <td>142</td>\n",
       "    </tr>\n",
       "    <tr>\n",
       "      <th>ruby</th>\n",
       "      <td>144</td>\n",
       "      <td>144</td>\n",
       "    </tr>\n",
       "    <tr>\n",
       "      <th>swift</th>\n",
       "      <td>135</td>\n",
       "      <td>135</td>\n",
       "    </tr>\n",
       "  </tbody>\n",
       "</table>\n",
       "</div>"
      ]
     },
     "execution_count": 16,
     "metadata": {},
     "output_type": "execute_result"
    }
   ],
   "execution_count": 16
  },
  {
   "cell_type": "markdown",
   "metadata": {
    "id": "arguGp3ZGxu1",
    "colab_type": "text"
   },
   "source": [
    "## Data Cleaning\n",
    "\n",
    "Let's fix the date format to make it more readable. We need to use Pandas to change format from a string of \"2008-07-01 00:00:00\" to a datetime object with the format of \"2008-07-01\""
   ]
  },
  {
   "cell_type": "code",
   "metadata": {
    "id": "5nh5a4UtGxu1",
    "colab_type": "code",
    "colab": {},
    "ExecuteTime": {
     "end_time": "2025-03-26T15:03:51.136217Z",
     "start_time": "2025-03-26T15:03:51.126182Z"
    }
   },
   "source": "df['DATE'][1]",
   "outputs": [
    {
     "data": {
      "text/plain": [
       "'2008-08-01 00:00:00'"
      ]
     },
     "execution_count": 17,
     "metadata": {},
     "output_type": "execute_result"
    }
   ],
   "execution_count": 17
  },
  {
   "cell_type": "code",
   "metadata": {
    "id": "016H-Fy4Gxu3",
    "colab_type": "code",
    "colab": {},
    "ExecuteTime": {
     "end_time": "2025-03-26T15:04:33.508712Z",
     "start_time": "2025-03-26T15:04:33.486607Z"
    }
   },
   "source": "type(df['DATE'][1])",
   "outputs": [
    {
     "data": {
      "text/plain": [
       "str"
      ]
     },
     "execution_count": 18,
     "metadata": {},
     "output_type": "execute_result"
    }
   ],
   "execution_count": 18
  },
  {
   "cell_type": "code",
   "metadata": {
    "id": "4EiSd7pdGxu5",
    "colab_type": "code",
    "colab": {},
    "ExecuteTime": {
     "end_time": "2025-03-26T15:06:41.987508Z",
     "start_time": "2025-03-26T15:06:41.958532Z"
    }
   },
   "source": [
    "df.DATE = pd.to_datetime(df['DATE'])\n",
    "df.head()"
   ],
   "outputs": [
    {
     "data": {
      "text/plain": [
       "        DATE         TAG  POSTS\n",
       "0 2008-07-01          c#      3\n",
       "1 2008-08-01    assembly      8\n",
       "2 2008-08-01  javascript    162\n",
       "3 2008-08-01           c     85\n",
       "4 2008-08-01      python    124"
      ],
      "text/html": [
       "<div>\n",
       "<style scoped>\n",
       "    .dataframe tbody tr th:only-of-type {\n",
       "        vertical-align: middle;\n",
       "    }\n",
       "\n",
       "    .dataframe tbody tr th {\n",
       "        vertical-align: top;\n",
       "    }\n",
       "\n",
       "    .dataframe thead th {\n",
       "        text-align: right;\n",
       "    }\n",
       "</style>\n",
       "<table border=\"1\" class=\"dataframe\">\n",
       "  <thead>\n",
       "    <tr style=\"text-align: right;\">\n",
       "      <th></th>\n",
       "      <th>DATE</th>\n",
       "      <th>TAG</th>\n",
       "      <th>POSTS</th>\n",
       "    </tr>\n",
       "  </thead>\n",
       "  <tbody>\n",
       "    <tr>\n",
       "      <th>0</th>\n",
       "      <td>2008-07-01</td>\n",
       "      <td>c#</td>\n",
       "      <td>3</td>\n",
       "    </tr>\n",
       "    <tr>\n",
       "      <th>1</th>\n",
       "      <td>2008-08-01</td>\n",
       "      <td>assembly</td>\n",
       "      <td>8</td>\n",
       "    </tr>\n",
       "    <tr>\n",
       "      <th>2</th>\n",
       "      <td>2008-08-01</td>\n",
       "      <td>javascript</td>\n",
       "      <td>162</td>\n",
       "    </tr>\n",
       "    <tr>\n",
       "      <th>3</th>\n",
       "      <td>2008-08-01</td>\n",
       "      <td>c</td>\n",
       "      <td>85</td>\n",
       "    </tr>\n",
       "    <tr>\n",
       "      <th>4</th>\n",
       "      <td>2008-08-01</td>\n",
       "      <td>python</td>\n",
       "      <td>124</td>\n",
       "    </tr>\n",
       "  </tbody>\n",
       "</table>\n",
       "</div>"
      ]
     },
     "execution_count": 19,
     "metadata": {},
     "output_type": "execute_result"
    }
   ],
   "execution_count": 19
  },
  {
   "cell_type": "markdown",
   "metadata": {
    "id": "rWAV6tuzGxu6",
    "colab_type": "text"
   },
   "source": [
    "## Data Manipulation\n",
    "\n"
   ]
  },
  {
   "cell_type": "code",
   "metadata": {
    "id": "aHhbulJaGxu7",
    "colab_type": "code",
    "colab": {},
    "ExecuteTime": {
     "end_time": "2025-03-26T15:09:18.323161Z",
     "start_time": "2025-03-26T15:09:18.294617Z"
    }
   },
   "source": [
    "test_df = pd.DataFrame({'Age': ['Young', 'Young', 'Young', 'Young', 'Old', 'Old', 'Old', 'Old'],\n",
    "                        'Actor': ['Jack', 'Arnold', 'Keanu', 'Sylvester', 'Jack', 'Arnold', 'Keanu', 'Sylvester'],\n",
    "                        'Power': [100, 80, 25, 50, 99, 75, 5, 30]})\n",
    "test_df"
   ],
   "outputs": [
    {
     "data": {
      "text/plain": [
       "     Age      Actor  Power\n",
       "0  Young       Jack    100\n",
       "1  Young     Arnold     80\n",
       "2  Young      Keanu     25\n",
       "3  Young  Sylvester     50\n",
       "4    Old       Jack     99\n",
       "5    Old     Arnold     75\n",
       "6    Old      Keanu      5\n",
       "7    Old  Sylvester     30"
      ],
      "text/html": [
       "<div>\n",
       "<style scoped>\n",
       "    .dataframe tbody tr th:only-of-type {\n",
       "        vertical-align: middle;\n",
       "    }\n",
       "\n",
       "    .dataframe tbody tr th {\n",
       "        vertical-align: top;\n",
       "    }\n",
       "\n",
       "    .dataframe thead th {\n",
       "        text-align: right;\n",
       "    }\n",
       "</style>\n",
       "<table border=\"1\" class=\"dataframe\">\n",
       "  <thead>\n",
       "    <tr style=\"text-align: right;\">\n",
       "      <th></th>\n",
       "      <th>Age</th>\n",
       "      <th>Actor</th>\n",
       "      <th>Power</th>\n",
       "    </tr>\n",
       "  </thead>\n",
       "  <tbody>\n",
       "    <tr>\n",
       "      <th>0</th>\n",
       "      <td>Young</td>\n",
       "      <td>Jack</td>\n",
       "      <td>100</td>\n",
       "    </tr>\n",
       "    <tr>\n",
       "      <th>1</th>\n",
       "      <td>Young</td>\n",
       "      <td>Arnold</td>\n",
       "      <td>80</td>\n",
       "    </tr>\n",
       "    <tr>\n",
       "      <th>2</th>\n",
       "      <td>Young</td>\n",
       "      <td>Keanu</td>\n",
       "      <td>25</td>\n",
       "    </tr>\n",
       "    <tr>\n",
       "      <th>3</th>\n",
       "      <td>Young</td>\n",
       "      <td>Sylvester</td>\n",
       "      <td>50</td>\n",
       "    </tr>\n",
       "    <tr>\n",
       "      <th>4</th>\n",
       "      <td>Old</td>\n",
       "      <td>Jack</td>\n",
       "      <td>99</td>\n",
       "    </tr>\n",
       "    <tr>\n",
       "      <th>5</th>\n",
       "      <td>Old</td>\n",
       "      <td>Arnold</td>\n",
       "      <td>75</td>\n",
       "    </tr>\n",
       "    <tr>\n",
       "      <th>6</th>\n",
       "      <td>Old</td>\n",
       "      <td>Keanu</td>\n",
       "      <td>5</td>\n",
       "    </tr>\n",
       "    <tr>\n",
       "      <th>7</th>\n",
       "      <td>Old</td>\n",
       "      <td>Sylvester</td>\n",
       "      <td>30</td>\n",
       "    </tr>\n",
       "  </tbody>\n",
       "</table>\n",
       "</div>"
      ]
     },
     "execution_count": 20,
     "metadata": {},
     "output_type": "execute_result"
    }
   ],
   "execution_count": 20
  },
  {
   "cell_type": "markdown",
   "metadata": {
    "id": "RWKcVIyFKwHM",
    "colab_type": "text"
   },
   "source": [
    "**Challenge**: What are the dimensions of our new dataframe? How many rows and columns does it have? Print out the column names and print out the first 5 rows of the dataframe."
   ]
  },
  {
   "cell_type": "code",
   "metadata": {
    "id": "v-u4FcLXGxu9",
    "colab_type": "code",
    "colab": {},
    "ExecuteTime": {
     "end_time": "2025-03-26T15:10:26.209705Z",
     "start_time": "2025-03-26T15:10:26.179879Z"
    }
   },
   "source": [
    "pivoted_df = test_df.pivot(index='Age', columns='Actor', values='Power')\n",
    "pivoted_df"
   ],
   "outputs": [
    {
     "data": {
      "text/plain": [
       "Actor  Arnold  Jack  Keanu  Sylvester\n",
       "Age                                  \n",
       "Old        75    99      5         30\n",
       "Young      80   100     25         50"
      ],
      "text/html": [
       "<div>\n",
       "<style scoped>\n",
       "    .dataframe tbody tr th:only-of-type {\n",
       "        vertical-align: middle;\n",
       "    }\n",
       "\n",
       "    .dataframe tbody tr th {\n",
       "        vertical-align: top;\n",
       "    }\n",
       "\n",
       "    .dataframe thead th {\n",
       "        text-align: right;\n",
       "    }\n",
       "</style>\n",
       "<table border=\"1\" class=\"dataframe\">\n",
       "  <thead>\n",
       "    <tr style=\"text-align: right;\">\n",
       "      <th>Actor</th>\n",
       "      <th>Arnold</th>\n",
       "      <th>Jack</th>\n",
       "      <th>Keanu</th>\n",
       "      <th>Sylvester</th>\n",
       "    </tr>\n",
       "    <tr>\n",
       "      <th>Age</th>\n",
       "      <th></th>\n",
       "      <th></th>\n",
       "      <th></th>\n",
       "      <th></th>\n",
       "    </tr>\n",
       "  </thead>\n",
       "  <tbody>\n",
       "    <tr>\n",
       "      <th>Old</th>\n",
       "      <td>75</td>\n",
       "      <td>99</td>\n",
       "      <td>5</td>\n",
       "      <td>30</td>\n",
       "    </tr>\n",
       "    <tr>\n",
       "      <th>Young</th>\n",
       "      <td>80</td>\n",
       "      <td>100</td>\n",
       "      <td>25</td>\n",
       "      <td>50</td>\n",
       "    </tr>\n",
       "  </tbody>\n",
       "</table>\n",
       "</div>"
      ]
     },
     "execution_count": 21,
     "metadata": {},
     "output_type": "execute_result"
    }
   ],
   "execution_count": 21
  },
  {
   "cell_type": "code",
   "metadata": {
    "id": "NUyBcaMMGxu-",
    "colab_type": "code",
    "colab": {},
    "ExecuteTime": {
     "end_time": "2025-03-26T15:12:54.717736Z",
     "start_time": "2025-03-26T15:12:54.704487Z"
    }
   },
   "source": "reshaped_df = df.pivot(index='DATE', columns='TAG', values='POSTS')",
   "outputs": [],
   "execution_count": 22
  },
  {
   "cell_type": "code",
   "metadata": {
    "id": "LnUIOL3LGxvA",
    "colab_type": "code",
    "colab": {},
    "ExecuteTime": {
     "end_time": "2025-03-26T15:13:08.273597Z",
     "start_time": "2025-03-26T15:13:08.251613Z"
    }
   },
   "source": "reshaped_df.shape",
   "outputs": [
    {
     "data": {
      "text/plain": [
       "(145, 14)"
      ]
     },
     "execution_count": 23,
     "metadata": {},
     "output_type": "execute_result"
    }
   ],
   "execution_count": 23
  },
  {
   "cell_type": "markdown",
   "metadata": {
    "id": "BoDCuRU0GxvC",
    "colab_type": "text"
   },
   "source": [
    "**Challenge**: Count the number of entries per programming language. Why might the number of entries be different? "
   ]
  },
  {
   "cell_type": "code",
   "metadata": {
    "id": "-peEFgaMGxvE",
    "colab_type": "code",
    "colab": {},
    "ExecuteTime": {
     "end_time": "2025-03-26T15:13:19.958983Z",
     "start_time": "2025-03-26T15:13:19.947877Z"
    }
   },
   "source": "reshaped_df.columns",
   "outputs": [
    {
     "data": {
      "text/plain": [
       "Index(['assembly', 'c', 'c#', 'c++', 'delphi', 'go', 'java', 'javascript',\n",
       "       'perl', 'php', 'python', 'r', 'ruby', 'swift'],\n",
       "      dtype='object', name='TAG')"
      ]
     },
     "execution_count": 24,
     "metadata": {},
     "output_type": "execute_result"
    }
   ],
   "execution_count": 24
  },
  {
   "cell_type": "code",
   "metadata": {
    "id": "01f2BCF8GxvG",
    "colab_type": "code",
    "colab": {},
    "ExecuteTime": {
     "end_time": "2025-03-26T15:13:28.461966Z",
     "start_time": "2025-03-26T15:13:28.418833Z"
    }
   },
   "source": "reshaped_df.head()",
   "outputs": [
    {
     "data": {
      "text/plain": [
       "TAG         assembly      c      c#    c++  delphi  go    java  javascript  \\\n",
       "DATE                                                                         \n",
       "2008-07-01       NaN    NaN     3.0    NaN     NaN NaN     NaN         NaN   \n",
       "2008-08-01       8.0   85.0   511.0  164.0    14.0 NaN   222.0       162.0   \n",
       "2008-09-01      28.0  321.0  1649.0  755.0   105.0 NaN  1137.0       640.0   \n",
       "2008-10-01      15.0  303.0  1989.0  811.0   112.0 NaN  1153.0       725.0   \n",
       "2008-11-01      17.0  259.0  1730.0  735.0   141.0 NaN   958.0       579.0   \n",
       "\n",
       "TAG          perl    php  python    r   ruby  swift  \n",
       "DATE                                                 \n",
       "2008-07-01    NaN    NaN     NaN  NaN    NaN    NaN  \n",
       "2008-08-01   28.0  161.0   124.0  NaN   73.0    NaN  \n",
       "2008-09-01  131.0  482.0   542.0  6.0  290.0    NaN  \n",
       "2008-10-01  127.0  617.0   510.0  NaN  249.0    NaN  \n",
       "2008-11-01   97.0  504.0   452.0  1.0  160.0    NaN  "
      ],
      "text/html": [
       "<div>\n",
       "<style scoped>\n",
       "    .dataframe tbody tr th:only-of-type {\n",
       "        vertical-align: middle;\n",
       "    }\n",
       "\n",
       "    .dataframe tbody tr th {\n",
       "        vertical-align: top;\n",
       "    }\n",
       "\n",
       "    .dataframe thead th {\n",
       "        text-align: right;\n",
       "    }\n",
       "</style>\n",
       "<table border=\"1\" class=\"dataframe\">\n",
       "  <thead>\n",
       "    <tr style=\"text-align: right;\">\n",
       "      <th>TAG</th>\n",
       "      <th>assembly</th>\n",
       "      <th>c</th>\n",
       "      <th>c#</th>\n",
       "      <th>c++</th>\n",
       "      <th>delphi</th>\n",
       "      <th>go</th>\n",
       "      <th>java</th>\n",
       "      <th>javascript</th>\n",
       "      <th>perl</th>\n",
       "      <th>php</th>\n",
       "      <th>python</th>\n",
       "      <th>r</th>\n",
       "      <th>ruby</th>\n",
       "      <th>swift</th>\n",
       "    </tr>\n",
       "    <tr>\n",
       "      <th>DATE</th>\n",
       "      <th></th>\n",
       "      <th></th>\n",
       "      <th></th>\n",
       "      <th></th>\n",
       "      <th></th>\n",
       "      <th></th>\n",
       "      <th></th>\n",
       "      <th></th>\n",
       "      <th></th>\n",
       "      <th></th>\n",
       "      <th></th>\n",
       "      <th></th>\n",
       "      <th></th>\n",
       "      <th></th>\n",
       "    </tr>\n",
       "  </thead>\n",
       "  <tbody>\n",
       "    <tr>\n",
       "      <th>2008-07-01</th>\n",
       "      <td>NaN</td>\n",
       "      <td>NaN</td>\n",
       "      <td>3.0</td>\n",
       "      <td>NaN</td>\n",
       "      <td>NaN</td>\n",
       "      <td>NaN</td>\n",
       "      <td>NaN</td>\n",
       "      <td>NaN</td>\n",
       "      <td>NaN</td>\n",
       "      <td>NaN</td>\n",
       "      <td>NaN</td>\n",
       "      <td>NaN</td>\n",
       "      <td>NaN</td>\n",
       "      <td>NaN</td>\n",
       "    </tr>\n",
       "    <tr>\n",
       "      <th>2008-08-01</th>\n",
       "      <td>8.0</td>\n",
       "      <td>85.0</td>\n",
       "      <td>511.0</td>\n",
       "      <td>164.0</td>\n",
       "      <td>14.0</td>\n",
       "      <td>NaN</td>\n",
       "      <td>222.0</td>\n",
       "      <td>162.0</td>\n",
       "      <td>28.0</td>\n",
       "      <td>161.0</td>\n",
       "      <td>124.0</td>\n",
       "      <td>NaN</td>\n",
       "      <td>73.0</td>\n",
       "      <td>NaN</td>\n",
       "    </tr>\n",
       "    <tr>\n",
       "      <th>2008-09-01</th>\n",
       "      <td>28.0</td>\n",
       "      <td>321.0</td>\n",
       "      <td>1649.0</td>\n",
       "      <td>755.0</td>\n",
       "      <td>105.0</td>\n",
       "      <td>NaN</td>\n",
       "      <td>1137.0</td>\n",
       "      <td>640.0</td>\n",
       "      <td>131.0</td>\n",
       "      <td>482.0</td>\n",
       "      <td>542.0</td>\n",
       "      <td>6.0</td>\n",
       "      <td>290.0</td>\n",
       "      <td>NaN</td>\n",
       "    </tr>\n",
       "    <tr>\n",
       "      <th>2008-10-01</th>\n",
       "      <td>15.0</td>\n",
       "      <td>303.0</td>\n",
       "      <td>1989.0</td>\n",
       "      <td>811.0</td>\n",
       "      <td>112.0</td>\n",
       "      <td>NaN</td>\n",
       "      <td>1153.0</td>\n",
       "      <td>725.0</td>\n",
       "      <td>127.0</td>\n",
       "      <td>617.0</td>\n",
       "      <td>510.0</td>\n",
       "      <td>NaN</td>\n",
       "      <td>249.0</td>\n",
       "      <td>NaN</td>\n",
       "    </tr>\n",
       "    <tr>\n",
       "      <th>2008-11-01</th>\n",
       "      <td>17.0</td>\n",
       "      <td>259.0</td>\n",
       "      <td>1730.0</td>\n",
       "      <td>735.0</td>\n",
       "      <td>141.0</td>\n",
       "      <td>NaN</td>\n",
       "      <td>958.0</td>\n",
       "      <td>579.0</td>\n",
       "      <td>97.0</td>\n",
       "      <td>504.0</td>\n",
       "      <td>452.0</td>\n",
       "      <td>1.0</td>\n",
       "      <td>160.0</td>\n",
       "      <td>NaN</td>\n",
       "    </tr>\n",
       "  </tbody>\n",
       "</table>\n",
       "</div>"
      ]
     },
     "execution_count": 25,
     "metadata": {},
     "output_type": "execute_result"
    }
   ],
   "execution_count": 25
  },
  {
   "cell_type": "code",
   "metadata": {
    "id": "KooRRxAdGxvI",
    "colab_type": "code",
    "colab": {},
    "ExecuteTime": {
     "end_time": "2025-03-26T15:14:25.427175Z",
     "start_time": "2025-03-26T15:14:25.386031Z"
    }
   },
   "source": "reshaped_df.count()",
   "outputs": [
    {
     "data": {
      "text/plain": [
       "TAG\n",
       "assembly      144\n",
       "c             144\n",
       "c#            145\n",
       "c++           144\n",
       "delphi        144\n",
       "go            129\n",
       "java          144\n",
       "javascript    144\n",
       "perl          144\n",
       "php           144\n",
       "python        144\n",
       "r             142\n",
       "ruby          144\n",
       "swift         135\n",
       "dtype: int64"
      ]
     },
     "execution_count": 26,
     "metadata": {},
     "output_type": "execute_result"
    }
   ],
   "execution_count": 26
  },
  {
   "metadata": {
    "ExecuteTime": {
     "end_time": "2025-03-26T15:15:38.245671Z",
     "start_time": "2025-03-26T15:15:38.191545Z"
    }
   },
   "cell_type": "code",
   "source": [
    "reshaped_df.fillna(0, inplace=True)\n",
    "reshaped_df.head()"
   ],
   "outputs": [
    {
     "data": {
      "text/plain": [
       "TAG         assembly      c      c#    c++  delphi   go    java  javascript  \\\n",
       "DATE                                                                          \n",
       "2008-07-01       0.0    0.0     3.0    0.0     0.0  0.0     0.0         0.0   \n",
       "2008-08-01       8.0   85.0   511.0  164.0    14.0  0.0   222.0       162.0   \n",
       "2008-09-01      28.0  321.0  1649.0  755.0   105.0  0.0  1137.0       640.0   \n",
       "2008-10-01      15.0  303.0  1989.0  811.0   112.0  0.0  1153.0       725.0   \n",
       "2008-11-01      17.0  259.0  1730.0  735.0   141.0  0.0   958.0       579.0   \n",
       "\n",
       "TAG          perl    php  python    r   ruby  swift  \n",
       "DATE                                                 \n",
       "2008-07-01    0.0    0.0     0.0  0.0    0.0    0.0  \n",
       "2008-08-01   28.0  161.0   124.0  0.0   73.0    0.0  \n",
       "2008-09-01  131.0  482.0   542.0  6.0  290.0    0.0  \n",
       "2008-10-01  127.0  617.0   510.0  0.0  249.0    0.0  \n",
       "2008-11-01   97.0  504.0   452.0  1.0  160.0    0.0  "
      ],
      "text/html": [
       "<div>\n",
       "<style scoped>\n",
       "    .dataframe tbody tr th:only-of-type {\n",
       "        vertical-align: middle;\n",
       "    }\n",
       "\n",
       "    .dataframe tbody tr th {\n",
       "        vertical-align: top;\n",
       "    }\n",
       "\n",
       "    .dataframe thead th {\n",
       "        text-align: right;\n",
       "    }\n",
       "</style>\n",
       "<table border=\"1\" class=\"dataframe\">\n",
       "  <thead>\n",
       "    <tr style=\"text-align: right;\">\n",
       "      <th>TAG</th>\n",
       "      <th>assembly</th>\n",
       "      <th>c</th>\n",
       "      <th>c#</th>\n",
       "      <th>c++</th>\n",
       "      <th>delphi</th>\n",
       "      <th>go</th>\n",
       "      <th>java</th>\n",
       "      <th>javascript</th>\n",
       "      <th>perl</th>\n",
       "      <th>php</th>\n",
       "      <th>python</th>\n",
       "      <th>r</th>\n",
       "      <th>ruby</th>\n",
       "      <th>swift</th>\n",
       "    </tr>\n",
       "    <tr>\n",
       "      <th>DATE</th>\n",
       "      <th></th>\n",
       "      <th></th>\n",
       "      <th></th>\n",
       "      <th></th>\n",
       "      <th></th>\n",
       "      <th></th>\n",
       "      <th></th>\n",
       "      <th></th>\n",
       "      <th></th>\n",
       "      <th></th>\n",
       "      <th></th>\n",
       "      <th></th>\n",
       "      <th></th>\n",
       "      <th></th>\n",
       "    </tr>\n",
       "  </thead>\n",
       "  <tbody>\n",
       "    <tr>\n",
       "      <th>2008-07-01</th>\n",
       "      <td>0.0</td>\n",
       "      <td>0.0</td>\n",
       "      <td>3.0</td>\n",
       "      <td>0.0</td>\n",
       "      <td>0.0</td>\n",
       "      <td>0.0</td>\n",
       "      <td>0.0</td>\n",
       "      <td>0.0</td>\n",
       "      <td>0.0</td>\n",
       "      <td>0.0</td>\n",
       "      <td>0.0</td>\n",
       "      <td>0.0</td>\n",
       "      <td>0.0</td>\n",
       "      <td>0.0</td>\n",
       "    </tr>\n",
       "    <tr>\n",
       "      <th>2008-08-01</th>\n",
       "      <td>8.0</td>\n",
       "      <td>85.0</td>\n",
       "      <td>511.0</td>\n",
       "      <td>164.0</td>\n",
       "      <td>14.0</td>\n",
       "      <td>0.0</td>\n",
       "      <td>222.0</td>\n",
       "      <td>162.0</td>\n",
       "      <td>28.0</td>\n",
       "      <td>161.0</td>\n",
       "      <td>124.0</td>\n",
       "      <td>0.0</td>\n",
       "      <td>73.0</td>\n",
       "      <td>0.0</td>\n",
       "    </tr>\n",
       "    <tr>\n",
       "      <th>2008-09-01</th>\n",
       "      <td>28.0</td>\n",
       "      <td>321.0</td>\n",
       "      <td>1649.0</td>\n",
       "      <td>755.0</td>\n",
       "      <td>105.0</td>\n",
       "      <td>0.0</td>\n",
       "      <td>1137.0</td>\n",
       "      <td>640.0</td>\n",
       "      <td>131.0</td>\n",
       "      <td>482.0</td>\n",
       "      <td>542.0</td>\n",
       "      <td>6.0</td>\n",
       "      <td>290.0</td>\n",
       "      <td>0.0</td>\n",
       "    </tr>\n",
       "    <tr>\n",
       "      <th>2008-10-01</th>\n",
       "      <td>15.0</td>\n",
       "      <td>303.0</td>\n",
       "      <td>1989.0</td>\n",
       "      <td>811.0</td>\n",
       "      <td>112.0</td>\n",
       "      <td>0.0</td>\n",
       "      <td>1153.0</td>\n",
       "      <td>725.0</td>\n",
       "      <td>127.0</td>\n",
       "      <td>617.0</td>\n",
       "      <td>510.0</td>\n",
       "      <td>0.0</td>\n",
       "      <td>249.0</td>\n",
       "      <td>0.0</td>\n",
       "    </tr>\n",
       "    <tr>\n",
       "      <th>2008-11-01</th>\n",
       "      <td>17.0</td>\n",
       "      <td>259.0</td>\n",
       "      <td>1730.0</td>\n",
       "      <td>735.0</td>\n",
       "      <td>141.0</td>\n",
       "      <td>0.0</td>\n",
       "      <td>958.0</td>\n",
       "      <td>579.0</td>\n",
       "      <td>97.0</td>\n",
       "      <td>504.0</td>\n",
       "      <td>452.0</td>\n",
       "      <td>1.0</td>\n",
       "      <td>160.0</td>\n",
       "      <td>0.0</td>\n",
       "    </tr>\n",
       "  </tbody>\n",
       "</table>\n",
       "</div>"
      ]
     },
     "execution_count": 28,
     "metadata": {},
     "output_type": "execute_result"
    }
   ],
   "execution_count": 28
  },
  {
   "metadata": {
    "ExecuteTime": {
     "end_time": "2025-03-26T15:15:57.898395Z",
     "start_time": "2025-03-26T15:15:57.886396Z"
    }
   },
   "cell_type": "code",
   "source": "reshaped_df.isna().values.any()",
   "outputs": [
    {
     "data": {
      "text/plain": [
       "np.False_"
      ]
     },
     "execution_count": 29,
     "metadata": {},
     "output_type": "execute_result"
    }
   ],
   "execution_count": 29
  },
  {
   "cell_type": "markdown",
   "metadata": {
    "id": "8xU7l_f4GxvK",
    "colab_type": "text"
   },
   "source": [
    "## Data Visualisaton with with Matplotlib\n"
   ]
  },
  {
   "cell_type": "markdown",
   "metadata": {
    "id": "njnNXTlhGxvK",
    "colab_type": "text"
   },
   "source": [
    "**Challenge**: Use the [matplotlib documentation](https://matplotlib.org/3.2.1/api/_as_gen/matplotlib.pyplot.plot.html#matplotlib.pyplot.plot) to plot a single programming language (e.g., java) on a chart."
   ]
  },
  {
   "cell_type": "code",
   "metadata": {
    "id": "S0OS8T8iGxvL",
    "colab_type": "code",
    "colab": {},
    "ExecuteTime": {
     "end_time": "2025-03-26T15:23:34.317061Z",
     "start_time": "2025-03-26T15:23:33.327969Z"
    }
   },
   "source": "plt.plot(reshaped_df.index, reshaped_df.java)",
   "outputs": [
    {
     "data": {
      "text/plain": [
       "[<matplotlib.lines.Line2D at 0x1c0be50c5f0>]"
      ]
     },
     "execution_count": 33,
     "metadata": {},
     "output_type": "execute_result"
    },
    {
     "data": {
      "text/plain": [
       "<Figure size 640x480 with 1 Axes>"
      ],
      "image/png": "[encoded data removed]"
     },
     "metadata": {},
     "output_type": "display_data"
    }
   ],
   "execution_count": 33
  },
  {
   "cell_type": "code",
   "metadata": {
    "id": "EU6AV1l9GxvM",
    "colab_type": "code",
    "colab": {}
   },
   "source": [
    ""
   ],
   "execution_count": 5,
   "outputs": []
  },
  {
   "cell_type": "code",
   "metadata": {
    "id": "_Qzzg6b_GxvO",
    "colab_type": "code",
    "colab": {}
   },
   "source": [
    ""
   ],
   "execution_count": 5,
   "outputs": []
  },
  {
   "cell_type": "markdown",
   "metadata": {
    "id": "Sm2DL5tZGxvQ",
    "colab_type": "text"
   },
   "source": [
    "**Challenge**: Show two line (e.g. for Java and Python) on the same chart."
   ]
  },
  {
   "cell_type": "code",
   "metadata": {
    "id": "T-0vClQSGxvQ",
    "colab_type": "code",
    "colab": {}
   },
   "source": [
    ""
   ],
   "execution_count": 5,
   "outputs": []
  },
  {
   "cell_type": "markdown",
   "metadata": {
    "id": "3jSjfPy7GxvY",
    "colab_type": "text"
   },
   "source": [
    "# Smoothing out Time Series Data\n",
    "\n",
    "Time series data can be quite noisy, with a lot of up and down spikes. To better see a trend we can plot an average of, say 6 or 12 observations. This is called the rolling mean. We calculate the average in a window of time and move it forward by one overservation. Pandas has two handy methods already built in to work this out: [rolling()](https://pandas.pydata.org/pandas-docs/stable/reference/api/pandas.DataFrame.rolling.html) and [mean()](https://pandas.pydata.org/pandas-docs/stable/reference/api/pandas.core.window.rolling.Rolling.mean.html). "
   ]
  },
  {
   "cell_type": "code",
   "metadata": {
    "id": "s3WYd3OgGxvc",
    "colab_type": "code",
    "colab": {}
   },
   "source": [
    ""
   ],
   "execution_count": null,
   "outputs": []
  },
  {
   "cell_type": "code",
   "metadata": {
    "id": "WMJOX8Y2Gxvd",
    "colab_type": "code",
    "colab": {}
   },
   "source": [
    ""
   ],
   "execution_count": null,
   "outputs": []
  },
  {
   "cell_type": "code",
   "metadata": {
    "id": "fAvvarA7Gxvf",
    "colab_type": "code",
    "colab": {}
   },
   "source": [
    ""
   ],
   "execution_count": null,
   "outputs": []
  },
  {
   "cell_type": "code",
   "metadata": {
    "id": "Gm0Ww0S4Gxvg",
    "colab_type": "code",
    "colab": {}
   },
   "source": [
    ""
   ],
   "execution_count": null,
   "outputs": []
  }
 ]
}
